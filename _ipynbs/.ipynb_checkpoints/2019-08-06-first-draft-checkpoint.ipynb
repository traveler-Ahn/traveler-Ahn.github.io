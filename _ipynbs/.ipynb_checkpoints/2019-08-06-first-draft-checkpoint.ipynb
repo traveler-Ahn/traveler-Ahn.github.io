{
 "cells": [
  {
   "cell_type": "markdown",
   "metadata": {},
   "source": [
    "- 기술 블로그에 글을 써내려가기 시작해야한다.\n",
    "- jupyter notebook으로 글을 써서 변환하는게 보이는데 ```이게 제일 만만해``` 보이기에 처음 테스트를 진행한다:)\n",
    "- 공식적으로 [개발자](https://github.com/traveler-Ahn)가 되어봅시다.\n",
    "- ```jupyter nbconverter```를 직접 하는 쉡 스크립트 작성\n"
   ]
  }
 ],
 "metadata": {
  "kernelspec": {
   "display_name": "Python 3",
   "language": "python",
   "name": "python3"
  },
  "language_info": {
   "codemirror_mode": {
    "name": "ipython",
    "version": 3
   },
   "file_extension": ".py",
   "mimetype": "text/x-python",
   "name": "python",
   "nbconvert_exporter": "python",
   "pygments_lexer": "ipython3",
   "version": "3.7.3"
  }
 },
 "nbformat": 4,
 "nbformat_minor": 2
}
